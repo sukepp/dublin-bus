{
 "cells": [
  {
   "cell_type": "code",
   "execution_count": 2,
   "metadata": {},
   "outputs": [
    {
     "name": "stderr",
     "output_type": "stream",
     "text": [
      "C:\\anaconda\\lib\\site-packages\\sklearn\\externals\\joblib\\__init__.py:15: FutureWarning: sklearn.externals.joblib is deprecated in 0.21 and will be removed in 0.23. Please import this functionality directly from joblib, which can be installed with: pip install joblib. If this warning is raised when loading pickled models, you may need to re-serialize those models with scikit-learn 0.21+.\n",
      "  warnings.warn(msg, category=FutureWarning)\n"
     ]
    }
   ],
   "source": [
    "import pandas as pd\n",
    "import numpy as np\n",
    "from datetime import datetime \n",
    "from datetime import timedelta\n",
    "from sklearn.ensemble import RandomForestRegressor\n",
    "from sklearn.model_selection import train_test_split,cross_val_score\n",
    "from sklearn import metrics\n",
    "from sklearn.linear_model import LinearRegression\n",
    "from sklearn.preprocessing import PolynomialFeatures\n",
    "import seaborn as sns\n",
    "import matplotlib.pyplot as plt\n",
    "from sklearn.externals import joblib"
   ]
  },
  {
   "cell_type": "code",
   "execution_count": null,
   "metadata": {},
   "outputs": [],
   "source": [
    "Line_46A = pd.read_csv('46A.csv',sep=',')"
   ]
  },
  {
   "cell_type": "code",
   "execution_count": null,
   "metadata": {},
   "outputs": [],
   "source": [
    "Line_46A"
   ]
  },
  {
   "cell_type": "code",
   "execution_count": null,
   "metadata": {},
   "outputs": [],
   "source": [
    "# Line_145 = pd.read_csv('145.csv',sep=',')\n",
    "# Line_145"
   ]
  },
  {
   "cell_type": "code",
   "execution_count": null,
   "metadata": {},
   "outputs": [],
   "source": [
    "# Line_47 = pd.read_csv('47.csv',sep=',')\n",
    "# Line_47 "
   ]
  },
  {
   "cell_type": "code",
   "execution_count": null,
   "metadata": {},
   "outputs": [],
   "source": [
    "weather = pd.read_excel('2018_historic_weather.xlsx',sheet_name='Sheet1')\n",
    "weather"
   ]
  },
  {
   "cell_type": "code",
   "execution_count": null,
   "metadata": {},
   "outputs": [],
   "source": [
    "weather.isnull().sum()"
   ]
  },
  {
   "cell_type": "code",
   "execution_count": null,
   "metadata": {},
   "outputs": [],
   "source": [
    "weather = weather.drop(['sea_level','grnd_level','rain_1h','rain_3h','snow_1h','snow_3h'],axis=1)\n",
    "weather"
   ]
  },
  {
   "cell_type": "code",
   "execution_count": null,
   "metadata": {},
   "outputs": [],
   "source": [
    "weather.nunique()"
   ]
  },
  {
   "cell_type": "code",
   "execution_count": null,
   "metadata": {},
   "outputs": [],
   "source": [
    "weather = weather.drop(['timezone','city_name','lat','lon','weather_description','weather_icon'],axis=1)\n",
    "weather"
   ]
  },
  {
   "cell_type": "code",
   "execution_count": null,
   "metadata": {},
   "outputs": [],
   "source": [
    "Line_46A.DAYOFSERVICE[0]"
   ]
  },
  {
   "cell_type": "code",
   "execution_count": null,
   "metadata": {},
   "outputs": [],
   "source": [
    "weather.dt_iso[0]"
   ]
  },
  {
   "cell_type": "code",
   "execution_count": null,
   "metadata": {},
   "outputs": [],
   "source": [
    "weather.dt_iso[0]==Line_46A.DAYOFSERVICE[0]"
   ]
  },
  {
   "cell_type": "code",
   "execution_count": null,
   "metadata": {},
   "outputs": [],
   "source": [
    "print(datetime.fromtimestamp(weather.dt[0]))"
   ]
  },
  {
   "cell_type": "code",
   "execution_count": null,
   "metadata": {},
   "outputs": [],
   "source": [
    "# Line_46A_new = pd.concat([Line_46A,Line_46A.DIRECTION.rename('DAYTIME')],axis=1)\n",
    "# Line_46A_new\n",
    "new = Line_46A.DIRECTION.rename('DAYTIME')\n",
    "Line_46A"
   ]
  },
  {
   "cell_type": "code",
   "execution_count": null,
   "metadata": {},
   "outputs": [],
   "source": [
    "# pd.to_datetime(Line_46A.DAYOFSERVICE[0],format='%d-%m-%Y %H:%M:%S')\n",
    "for i in range(Line_46A.shape[0]):\n",
    "    d = datetime.strptime(Line_46A.DAYOFSERVICE[i],'%d-%b-%y %H:%M:%S')\n",
    "    hour = Line_46A.ACTUALTIME_ARR[i]//3600\n",
    "    d = d + timedelta(hours=int(hour))\n",
    "    new[i] = d\n",
    "    print(i,end=' ')"
   ]
  },
  {
   "cell_type": "code",
   "execution_count": null,
   "metadata": {},
   "outputs": [],
   "source": [
    "Line_46A_new = pd.concat([Line_46A,new.rename('DAYTIME')],axis = 1)\n",
    "Line_46A_new"
   ]
  },
  {
   "cell_type": "code",
   "execution_count": null,
   "metadata": {},
   "outputs": [],
   "source": [
    "Line_46A_new = Line_46A_new.drop(['DAYOFSERVICE','TRIPID'],axis=1)\n",
    "Line_46A_new"
   ]
  },
  {
   "cell_type": "code",
   "execution_count": null,
   "metadata": {},
   "outputs": [],
   "source": [
    "Line_46A_new.DAYTIME = pd.to_datetime(new)\n",
    "Line_46A_new.dtypes"
   ]
  },
  {
   "cell_type": "code",
   "execution_count": null,
   "metadata": {},
   "outputs": [],
   "source": [
    "new = weather.dt\n",
    "for i in range(new.shape[0]):\n",
    "    new[i] = datetime.fromtimestamp(weather.dt[i])"
   ]
  },
  {
   "cell_type": "code",
   "execution_count": null,
   "metadata": {},
   "outputs": [],
   "source": [
    "weather = pd.concat([weather,new.rename('DAYTIME')],axis=1)\n",
    "weather"
   ]
  },
  {
   "cell_type": "code",
   "execution_count": null,
   "metadata": {},
   "outputs": [],
   "source": [
    "weather = weather.drop(['dt','dt_iso'],axis=1)\n",
    "weather"
   ]
  },
  {
   "cell_type": "code",
   "execution_count": null,
   "metadata": {
    "scrolled": false
   },
   "outputs": [],
   "source": [
    "\n",
    "for i in range(weather.shape[0]):\n",
    "    if weather.weather_main[i] == 'Clear':\n",
    "        weather.weather_main[i]=0\n",
    "    elif weather.weather_main[i] == 'Mist':\n",
    "        weather.weather_main[i]=1\n",
    "    elif weather.weather_main[i] == 'Fog':\n",
    "        weather.weather_main[i]=3\n",
    "    elif weather.weather_main[i] == 'Smoke':\n",
    "        weather.weather_main[i]=4\n",
    "    elif weather.weather_main[i] == 'Clouds':\n",
    "        weather.weather_main[i]=5\n",
    "    elif weather.weather_main[i] == 'Drizzle':\n",
    "        weather.weather_main[i]=6\n",
    "    elif weather.weather_main[i] == 'Rain':\n",
    "        weather.weather_main[i]=7\n",
    "    elif weather.weather_main[i] == 'Snow':\n",
    "        weather.weather_main[i]=8\n",
    "weather"
   ]
  },
  {
   "cell_type": "code",
   "execution_count": null,
   "metadata": {},
   "outputs": [],
   "source": [
    "weather.DAYTIME = pd.to_datetime(weather.DAYTIME)\n",
    "weather.to_csv('Weather_ReadytoMerge.csv',header=True,index=False)"
   ]
  },
  {
   "cell_type": "code",
   "execution_count": null,
   "metadata": {
    "scrolled": true
   },
   "outputs": [],
   "source": [
    "new = weather.temp\n",
    "for i in range(weather.shape[0]):\n",
    "    new[i] = weather.DAYTIME[i].dayofweek\n",
    "weather = pd.concat([weather,new.rename('DAYOFWEEK')],axis=1)\n",
    "weather"
   ]
  },
  {
   "cell_type": "code",
   "execution_count": 5,
   "metadata": {
    "scrolled": true
   },
   "outputs": [
    {
     "data": {
      "text/html": [
       "<div>\n",
       "<style scoped>\n",
       "    .dataframe tbody tr th:only-of-type {\n",
       "        vertical-align: middle;\n",
       "    }\n",
       "\n",
       "    .dataframe tbody tr th {\n",
       "        vertical-align: top;\n",
       "    }\n",
       "\n",
       "    .dataframe thead th {\n",
       "        text-align: right;\n",
       "    }\n",
       "</style>\n",
       "<table border=\"1\" class=\"dataframe\">\n",
       "  <thead>\n",
       "    <tr style=\"text-align: right;\">\n",
       "      <th></th>\n",
       "      <th>PROGRNUMBER</th>\n",
       "      <th>STOPPOINTID</th>\n",
       "      <th>ACTUALTIME_ARR</th>\n",
       "      <th>VEHICLEID</th>\n",
       "      <th>DIRECTION</th>\n",
       "      <th>DAYTIME</th>\n",
       "      <th>TIME</th>\n",
       "      <th>DATE</th>\n",
       "      <th>ORDER</th>\n",
       "      <th>temp</th>\n",
       "      <th>...</th>\n",
       "      <th>temp_min</th>\n",
       "      <th>temp_max</th>\n",
       "      <th>pressure</th>\n",
       "      <th>humidity</th>\n",
       "      <th>wind_speed</th>\n",
       "      <th>wind_deg</th>\n",
       "      <th>clouds_all</th>\n",
       "      <th>weather_id</th>\n",
       "      <th>weather_main</th>\n",
       "      <th>DAYOFWEEK</th>\n",
       "    </tr>\n",
       "  </thead>\n",
       "  <tbody>\n",
       "    <tr>\n",
       "      <th>0</th>\n",
       "      <td>30</td>\n",
       "      <td>762</td>\n",
       "      <td>32393</td>\n",
       "      <td>2868383</td>\n",
       "      <td>1</td>\n",
       "      <td>2018-07-01 08:00:00</td>\n",
       "      <td>31800</td>\n",
       "      <td>2018-07-01 00:00:00</td>\n",
       "      <td>1</td>\n",
       "      <td>6.0</td>\n",
       "      <td>...</td>\n",
       "      <td>15.0</td>\n",
       "      <td>17.64</td>\n",
       "      <td>1015</td>\n",
       "      <td>88</td>\n",
       "      <td>1.54</td>\n",
       "      <td>0</td>\n",
       "      <td>79</td>\n",
       "      <td>803</td>\n",
       "      <td>5</td>\n",
       "      <td>6.0</td>\n",
       "    </tr>\n",
       "    <tr>\n",
       "      <th>1</th>\n",
       "      <td>15</td>\n",
       "      <td>334</td>\n",
       "      <td>31505</td>\n",
       "      <td>2868383</td>\n",
       "      <td>1</td>\n",
       "      <td>2018-07-01 08:00:00</td>\n",
       "      <td>31200</td>\n",
       "      <td>2018-07-01 00:00:00</td>\n",
       "      <td>1</td>\n",
       "      <td>6.0</td>\n",
       "      <td>...</td>\n",
       "      <td>15.0</td>\n",
       "      <td>17.64</td>\n",
       "      <td>1015</td>\n",
       "      <td>88</td>\n",
       "      <td>1.54</td>\n",
       "      <td>0</td>\n",
       "      <td>79</td>\n",
       "      <td>803</td>\n",
       "      <td>5</td>\n",
       "      <td>6.0</td>\n",
       "    </tr>\n",
       "    <tr>\n",
       "      <th>2</th>\n",
       "      <td>18</td>\n",
       "      <td>842</td>\n",
       "      <td>31820</td>\n",
       "      <td>2868383</td>\n",
       "      <td>1</td>\n",
       "      <td>2018-07-01 08:00:00</td>\n",
       "      <td>31800</td>\n",
       "      <td>2018-07-01 00:00:00</td>\n",
       "      <td>1</td>\n",
       "      <td>6.0</td>\n",
       "      <td>...</td>\n",
       "      <td>15.0</td>\n",
       "      <td>17.64</td>\n",
       "      <td>1015</td>\n",
       "      <td>88</td>\n",
       "      <td>1.54</td>\n",
       "      <td>0</td>\n",
       "      <td>79</td>\n",
       "      <td>803</td>\n",
       "      <td>5</td>\n",
       "      <td>6.0</td>\n",
       "    </tr>\n",
       "    <tr>\n",
       "      <th>3</th>\n",
       "      <td>21</td>\n",
       "      <td>847</td>\n",
       "      <td>31994</td>\n",
       "      <td>2868383</td>\n",
       "      <td>1</td>\n",
       "      <td>2018-07-01 08:00:00</td>\n",
       "      <td>31800</td>\n",
       "      <td>2018-07-01 00:00:00</td>\n",
       "      <td>1</td>\n",
       "      <td>6.0</td>\n",
       "      <td>...</td>\n",
       "      <td>15.0</td>\n",
       "      <td>17.64</td>\n",
       "      <td>1015</td>\n",
       "      <td>88</td>\n",
       "      <td>1.54</td>\n",
       "      <td>0</td>\n",
       "      <td>79</td>\n",
       "      <td>803</td>\n",
       "      <td>5</td>\n",
       "      <td>6.0</td>\n",
       "    </tr>\n",
       "    <tr>\n",
       "      <th>4</th>\n",
       "      <td>22</td>\n",
       "      <td>848</td>\n",
       "      <td>32051</td>\n",
       "      <td>2868383</td>\n",
       "      <td>1</td>\n",
       "      <td>2018-07-01 08:00:00</td>\n",
       "      <td>31800</td>\n",
       "      <td>2018-07-01 00:00:00</td>\n",
       "      <td>1</td>\n",
       "      <td>6.0</td>\n",
       "      <td>...</td>\n",
       "      <td>15.0</td>\n",
       "      <td>17.64</td>\n",
       "      <td>1015</td>\n",
       "      <td>88</td>\n",
       "      <td>1.54</td>\n",
       "      <td>0</td>\n",
       "      <td>79</td>\n",
       "      <td>803</td>\n",
       "      <td>5</td>\n",
       "      <td>6.0</td>\n",
       "    </tr>\n",
       "  </tbody>\n",
       "</table>\n",
       "<p>5 rows × 21 columns</p>\n",
       "</div>"
      ],
      "text/plain": [
       "   PROGRNUMBER  STOPPOINTID  ACTUALTIME_ARR  VEHICLEID  DIRECTION  \\\n",
       "0           30          762           32393    2868383          1   \n",
       "1           15          334           31505    2868383          1   \n",
       "2           18          842           31820    2868383          1   \n",
       "3           21          847           31994    2868383          1   \n",
       "4           22          848           32051    2868383          1   \n",
       "\n",
       "               DAYTIME   TIME                 DATE  ORDER  temp  ...  \\\n",
       "0  2018-07-01 08:00:00  31800  2018-07-01 00:00:00      1   6.0  ...   \n",
       "1  2018-07-01 08:00:00  31200  2018-07-01 00:00:00      1   6.0  ...   \n",
       "2  2018-07-01 08:00:00  31800  2018-07-01 00:00:00      1   6.0  ...   \n",
       "3  2018-07-01 08:00:00  31800  2018-07-01 00:00:00      1   6.0  ...   \n",
       "4  2018-07-01 08:00:00  31800  2018-07-01 00:00:00      1   6.0  ...   \n",
       "\n",
       "   temp_min  temp_max  pressure  humidity  wind_speed  wind_deg  clouds_all  \\\n",
       "0      15.0     17.64      1015        88        1.54         0          79   \n",
       "1      15.0     17.64      1015        88        1.54         0          79   \n",
       "2      15.0     17.64      1015        88        1.54         0          79   \n",
       "3      15.0     17.64      1015        88        1.54         0          79   \n",
       "4      15.0     17.64      1015        88        1.54         0          79   \n",
       "\n",
       "   weather_id  weather_main  DAYOFWEEK  \n",
       "0         803             5        6.0  \n",
       "1         803             5        6.0  \n",
       "2         803             5        6.0  \n",
       "3         803             5        6.0  \n",
       "4         803             5        6.0  \n",
       "\n",
       "[5 rows x 21 columns]"
      ]
     },
     "execution_count": 5,
     "metadata": {},
     "output_type": "execute_result"
    }
   ],
   "source": [
    "# dataset = pd.merge(Line_46A_new,weather,on='DAYTIME')\n",
    "# dataset.to_csv('dataset46A.csv',header=True,index = False)\n",
    "dataset=pd.read_csv('Step_2/dataset_46A.csv',sep=',')\n",
    "dataset.head()"
   ]
  },
  {
   "cell_type": "code",
   "execution_count": null,
   "metadata": {},
   "outputs": [],
   "source": [
    "dataset[train_features].nunique()"
   ]
  },
  {
   "cell_type": "code",
   "execution_count": null,
   "metadata": {},
   "outputs": [],
   "source": [
    "numeric_features = ['PROGRNUMBER','temp','feels_like',\n",
    "       'temp_min', 'temp_max', 'pressure', 'humidity', 'wind_speed',\n",
    "       'wind_deg', 'clouds_all']\n",
    "categorical_features = ['STOPPOINTID','DIRECTION','DAYOFWEEK','weather_main','weather_id',]"
   ]
  },
  {
   "cell_type": "code",
   "execution_count": null,
   "metadata": {},
   "outputs": [],
   "source": [
    "# Correlation matrix using code found on https://stanford.edu/~mwaskom/software/seaborn/examples/many_pairwise_correlations.html \n",
    "sns.set(style=\"white\")  \n",
    "\n",
    "# Calculate correlation of all pairs of continuous features \n",
    "corr = Xtrain[numeric_features].corr()  \n",
    "\n",
    "# Generate a mask for the upper triangle \n",
    "mask = np.zeros_like(corr, dtype=np.bool) \n",
    "mask[np.triu_indices_from(mask)] = True  \n",
    "\n",
    "# Set up the matplotlib figure \n",
    "f, ax = plt.subplots(figsize=(20, 20))  \n",
    "\n",
    "# Generate a custom colormap - blue and red \n",
    "cmap = sns.diverging_palette(220, 10, as_cmap=True)  \n",
    "\n",
    "# Draw the heatmap with the mask and correct aspect ratio \n",
    "sns.heatmap(corr, annot=True, mask=mask, cmap=cmap, vmax=1, vmin=-1,             \n",
    "            square=True, xticklabels=True, yticklabels=True,             \n",
    "            linewidths=.5, cbar_kws={\"shrink\": .5}, ax=ax) \n",
    "\n",
    "plt.yticks(rotation = 0) \n",
    "plt.xticks(rotation = 90)"
   ]
  },
  {
   "cell_type": "code",
   "execution_count": null,
   "metadata": {},
   "outputs": [],
   "source": [
    "for i in numeric_features:\n",
    "    dataset[i].plot(kind='box',figsize = (5,5))\n",
    "    plt.show()"
   ]
  },
  {
   "cell_type": "code",
   "execution_count": null,
   "metadata": {},
   "outputs": [],
   "source": [
    "dataset[categorical_features]"
   ]
  },
  {
   "cell_type": "code",
   "execution_count": null,
   "metadata": {},
   "outputs": [],
   "source": []
  },
  {
   "cell_type": "code",
   "execution_count": null,
   "metadata": {},
   "outputs": [],
   "source": []
  },
  {
   "cell_type": "code",
   "execution_count": 2,
   "metadata": {},
   "outputs": [
    {
     "data": {
      "text/html": [
       "<div>\n",
       "<style scoped>\n",
       "    .dataframe tbody tr th:only-of-type {\n",
       "        vertical-align: middle;\n",
       "    }\n",
       "\n",
       "    .dataframe tbody tr th {\n",
       "        vertical-align: top;\n",
       "    }\n",
       "\n",
       "    .dataframe thead th {\n",
       "        text-align: right;\n",
       "    }\n",
       "</style>\n",
       "<table border=\"1\" class=\"dataframe\">\n",
       "  <thead>\n",
       "    <tr style=\"text-align: right;\">\n",
       "      <th></th>\n",
       "      <th>PROGRNUMBER</th>\n",
       "      <th>STOPPOINTID</th>\n",
       "      <th>ACTUALTIME_ARR</th>\n",
       "      <th>VEHICLEID</th>\n",
       "      <th>DIRECTION</th>\n",
       "      <th>DAYTIME</th>\n",
       "      <th>TIME</th>\n",
       "      <th>DATE</th>\n",
       "      <th>ORDER</th>\n",
       "      <th>LINEID</th>\n",
       "      <th>...</th>\n",
       "      <th>temp_min</th>\n",
       "      <th>temp_max</th>\n",
       "      <th>pressure</th>\n",
       "      <th>humidity</th>\n",
       "      <th>wind_speed</th>\n",
       "      <th>wind_deg</th>\n",
       "      <th>clouds_all</th>\n",
       "      <th>weather_id</th>\n",
       "      <th>weather_main</th>\n",
       "      <th>DAYOFWEEK</th>\n",
       "    </tr>\n",
       "  </thead>\n",
       "  <tbody>\n",
       "    <tr>\n",
       "      <th>0</th>\n",
       "      <td>1</td>\n",
       "      <td>7662</td>\n",
       "      <td>33858</td>\n",
       "      <td>2868377</td>\n",
       "      <td>1</td>\n",
       "      <td>2018-07-01 09:00:00</td>\n",
       "      <td>33600</td>\n",
       "      <td>2018-07-01 00:00:00</td>\n",
       "      <td>1</td>\n",
       "      <td>47.0</td>\n",
       "      <td>...</td>\n",
       "      <td>15.97</td>\n",
       "      <td>18.86</td>\n",
       "      <td>1016</td>\n",
       "      <td>77</td>\n",
       "      <td>2.06</td>\n",
       "      <td>360</td>\n",
       "      <td>86</td>\n",
       "      <td>804</td>\n",
       "      <td>5</td>\n",
       "      <td>6.0</td>\n",
       "    </tr>\n",
       "    <tr>\n",
       "      <th>1</th>\n",
       "      <td>1</td>\n",
       "      <td>5013</td>\n",
       "      <td>34269</td>\n",
       "      <td>2868327</td>\n",
       "      <td>2</td>\n",
       "      <td>2018-07-01 09:00:00</td>\n",
       "      <td>34200</td>\n",
       "      <td>2018-07-01 00:00:00</td>\n",
       "      <td>1</td>\n",
       "      <td>47.0</td>\n",
       "      <td>...</td>\n",
       "      <td>15.97</td>\n",
       "      <td>18.86</td>\n",
       "      <td>1016</td>\n",
       "      <td>77</td>\n",
       "      <td>2.06</td>\n",
       "      <td>360</td>\n",
       "      <td>86</td>\n",
       "      <td>804</td>\n",
       "      <td>5</td>\n",
       "      <td>6.0</td>\n",
       "    </tr>\n",
       "    <tr>\n",
       "      <th>2</th>\n",
       "      <td>2</td>\n",
       "      <td>7564</td>\n",
       "      <td>33858</td>\n",
       "      <td>2868377</td>\n",
       "      <td>1</td>\n",
       "      <td>2018-07-01 09:00:00</td>\n",
       "      <td>33600</td>\n",
       "      <td>2018-07-01 00:00:00</td>\n",
       "      <td>1</td>\n",
       "      <td>47.0</td>\n",
       "      <td>...</td>\n",
       "      <td>15.97</td>\n",
       "      <td>18.86</td>\n",
       "      <td>1016</td>\n",
       "      <td>77</td>\n",
       "      <td>2.06</td>\n",
       "      <td>360</td>\n",
       "      <td>86</td>\n",
       "      <td>804</td>\n",
       "      <td>5</td>\n",
       "      <td>6.0</td>\n",
       "    </tr>\n",
       "    <tr>\n",
       "      <th>3</th>\n",
       "      <td>2</td>\n",
       "      <td>5014</td>\n",
       "      <td>34312</td>\n",
       "      <td>2868327</td>\n",
       "      <td>2</td>\n",
       "      <td>2018-07-01 09:00:00</td>\n",
       "      <td>34200</td>\n",
       "      <td>2018-07-01 00:00:00</td>\n",
       "      <td>1</td>\n",
       "      <td>47.0</td>\n",
       "      <td>...</td>\n",
       "      <td>15.97</td>\n",
       "      <td>18.86</td>\n",
       "      <td>1016</td>\n",
       "      <td>77</td>\n",
       "      <td>2.06</td>\n",
       "      <td>360</td>\n",
       "      <td>86</td>\n",
       "      <td>804</td>\n",
       "      <td>5</td>\n",
       "      <td>6.0</td>\n",
       "    </tr>\n",
       "    <tr>\n",
       "      <th>4</th>\n",
       "      <td>4</td>\n",
       "      <td>350</td>\n",
       "      <td>34502</td>\n",
       "      <td>2868377</td>\n",
       "      <td>1</td>\n",
       "      <td>2018-07-01 09:00:00</td>\n",
       "      <td>34200</td>\n",
       "      <td>2018-07-01 00:00:00</td>\n",
       "      <td>1</td>\n",
       "      <td>47.0</td>\n",
       "      <td>...</td>\n",
       "      <td>15.97</td>\n",
       "      <td>18.86</td>\n",
       "      <td>1016</td>\n",
       "      <td>77</td>\n",
       "      <td>2.06</td>\n",
       "      <td>360</td>\n",
       "      <td>86</td>\n",
       "      <td>804</td>\n",
       "      <td>5</td>\n",
       "      <td>6.0</td>\n",
       "    </tr>\n",
       "    <tr>\n",
       "      <th>...</th>\n",
       "      <td>...</td>\n",
       "      <td>...</td>\n",
       "      <td>...</td>\n",
       "      <td>...</td>\n",
       "      <td>...</td>\n",
       "      <td>...</td>\n",
       "      <td>...</td>\n",
       "      <td>...</td>\n",
       "      <td>...</td>\n",
       "      <td>...</td>\n",
       "      <td>...</td>\n",
       "      <td>...</td>\n",
       "      <td>...</td>\n",
       "      <td>...</td>\n",
       "      <td>...</td>\n",
       "      <td>...</td>\n",
       "      <td>...</td>\n",
       "      <td>...</td>\n",
       "      <td>...</td>\n",
       "      <td>...</td>\n",
       "      <td>...</td>\n",
       "    </tr>\n",
       "    <tr>\n",
       "      <th>167070</th>\n",
       "      <td>10</td>\n",
       "      <td>4984</td>\n",
       "      <td>24188</td>\n",
       "      <td>1000154</td>\n",
       "      <td>2</td>\n",
       "      <td>2018-10-01 06:00:00</td>\n",
       "      <td>24000</td>\n",
       "      <td>2018-10-01 00:00:00</td>\n",
       "      <td>1</td>\n",
       "      <td>47.0</td>\n",
       "      <td>...</td>\n",
       "      <td>4.00</td>\n",
       "      <td>8.20</td>\n",
       "      <td>1028</td>\n",
       "      <td>93</td>\n",
       "      <td>2.10</td>\n",
       "      <td>250</td>\n",
       "      <td>20</td>\n",
       "      <td>801</td>\n",
       "      <td>5</td>\n",
       "      <td>0.0</td>\n",
       "    </tr>\n",
       "    <tr>\n",
       "      <th>167071</th>\n",
       "      <td>3</td>\n",
       "      <td>7291</td>\n",
       "      <td>23557</td>\n",
       "      <td>1000154</td>\n",
       "      <td>2</td>\n",
       "      <td>2018-10-01 06:00:00</td>\n",
       "      <td>23400</td>\n",
       "      <td>2018-10-01 00:00:00</td>\n",
       "      <td>1</td>\n",
       "      <td>47.0</td>\n",
       "      <td>...</td>\n",
       "      <td>4.00</td>\n",
       "      <td>8.20</td>\n",
       "      <td>1028</td>\n",
       "      <td>93</td>\n",
       "      <td>2.10</td>\n",
       "      <td>250</td>\n",
       "      <td>20</td>\n",
       "      <td>801</td>\n",
       "      <td>5</td>\n",
       "      <td>0.0</td>\n",
       "    </tr>\n",
       "    <tr>\n",
       "      <th>167072</th>\n",
       "      <td>5</td>\n",
       "      <td>3486</td>\n",
       "      <td>23712</td>\n",
       "      <td>1000154</td>\n",
       "      <td>2</td>\n",
       "      <td>2018-10-01 06:00:00</td>\n",
       "      <td>23400</td>\n",
       "      <td>2018-10-01 00:00:00</td>\n",
       "      <td>1</td>\n",
       "      <td>47.0</td>\n",
       "      <td>...</td>\n",
       "      <td>4.00</td>\n",
       "      <td>8.20</td>\n",
       "      <td>1028</td>\n",
       "      <td>93</td>\n",
       "      <td>2.10</td>\n",
       "      <td>250</td>\n",
       "      <td>20</td>\n",
       "      <td>801</td>\n",
       "      <td>5</td>\n",
       "      <td>0.0</td>\n",
       "    </tr>\n",
       "    <tr>\n",
       "      <th>167073</th>\n",
       "      <td>6</td>\n",
       "      <td>3487</td>\n",
       "      <td>23748</td>\n",
       "      <td>1000154</td>\n",
       "      <td>2</td>\n",
       "      <td>2018-10-01 06:00:00</td>\n",
       "      <td>23400</td>\n",
       "      <td>2018-10-01 00:00:00</td>\n",
       "      <td>1</td>\n",
       "      <td>47.0</td>\n",
       "      <td>...</td>\n",
       "      <td>4.00</td>\n",
       "      <td>8.20</td>\n",
       "      <td>1028</td>\n",
       "      <td>93</td>\n",
       "      <td>2.10</td>\n",
       "      <td>250</td>\n",
       "      <td>20</td>\n",
       "      <td>801</td>\n",
       "      <td>5</td>\n",
       "      <td>0.0</td>\n",
       "    </tr>\n",
       "    <tr>\n",
       "      <th>167074</th>\n",
       "      <td>16</td>\n",
       "      <td>4460</td>\n",
       "      <td>24519</td>\n",
       "      <td>1000154</td>\n",
       "      <td>2</td>\n",
       "      <td>2018-10-01 06:00:00</td>\n",
       "      <td>24000</td>\n",
       "      <td>2018-10-01 00:00:00</td>\n",
       "      <td>1</td>\n",
       "      <td>47.0</td>\n",
       "      <td>...</td>\n",
       "      <td>4.00</td>\n",
       "      <td>8.20</td>\n",
       "      <td>1028</td>\n",
       "      <td>93</td>\n",
       "      <td>2.10</td>\n",
       "      <td>250</td>\n",
       "      <td>20</td>\n",
       "      <td>801</td>\n",
       "      <td>5</td>\n",
       "      <td>0.0</td>\n",
       "    </tr>\n",
       "  </tbody>\n",
       "</table>\n",
       "<p>167075 rows × 22 columns</p>\n",
       "</div>"
      ],
      "text/plain": [
       "        PROGRNUMBER  STOPPOINTID  ACTUALTIME_ARR  VEHICLEID  DIRECTION  \\\n",
       "0                 1         7662           33858    2868377          1   \n",
       "1                 1         5013           34269    2868327          2   \n",
       "2                 2         7564           33858    2868377          1   \n",
       "3                 2         5014           34312    2868327          2   \n",
       "4                 4          350           34502    2868377          1   \n",
       "...             ...          ...             ...        ...        ...   \n",
       "167070           10         4984           24188    1000154          2   \n",
       "167071            3         7291           23557    1000154          2   \n",
       "167072            5         3486           23712    1000154          2   \n",
       "167073            6         3487           23748    1000154          2   \n",
       "167074           16         4460           24519    1000154          2   \n",
       "\n",
       "                    DAYTIME   TIME                 DATE  ORDER  LINEID  ...  \\\n",
       "0       2018-07-01 09:00:00  33600  2018-07-01 00:00:00      1    47.0  ...   \n",
       "1       2018-07-01 09:00:00  34200  2018-07-01 00:00:00      1    47.0  ...   \n",
       "2       2018-07-01 09:00:00  33600  2018-07-01 00:00:00      1    47.0  ...   \n",
       "3       2018-07-01 09:00:00  34200  2018-07-01 00:00:00      1    47.0  ...   \n",
       "4       2018-07-01 09:00:00  34200  2018-07-01 00:00:00      1    47.0  ...   \n",
       "...                     ...    ...                  ...    ...     ...  ...   \n",
       "167070  2018-10-01 06:00:00  24000  2018-10-01 00:00:00      1    47.0  ...   \n",
       "167071  2018-10-01 06:00:00  23400  2018-10-01 00:00:00      1    47.0  ...   \n",
       "167072  2018-10-01 06:00:00  23400  2018-10-01 00:00:00      1    47.0  ...   \n",
       "167073  2018-10-01 06:00:00  23400  2018-10-01 00:00:00      1    47.0  ...   \n",
       "167074  2018-10-01 06:00:00  24000  2018-10-01 00:00:00      1    47.0  ...   \n",
       "\n",
       "        temp_min  temp_max  pressure  humidity  wind_speed  wind_deg  \\\n",
       "0          15.97     18.86      1016        77        2.06       360   \n",
       "1          15.97     18.86      1016        77        2.06       360   \n",
       "2          15.97     18.86      1016        77        2.06       360   \n",
       "3          15.97     18.86      1016        77        2.06       360   \n",
       "4          15.97     18.86      1016        77        2.06       360   \n",
       "...          ...       ...       ...       ...         ...       ...   \n",
       "167070      4.00      8.20      1028        93        2.10       250   \n",
       "167071      4.00      8.20      1028        93        2.10       250   \n",
       "167072      4.00      8.20      1028        93        2.10       250   \n",
       "167073      4.00      8.20      1028        93        2.10       250   \n",
       "167074      4.00      8.20      1028        93        2.10       250   \n",
       "\n",
       "        clouds_all  weather_id  weather_main  DAYOFWEEK  \n",
       "0               86         804             5        6.0  \n",
       "1               86         804             5        6.0  \n",
       "2               86         804             5        6.0  \n",
       "3               86         804             5        6.0  \n",
       "4               86         804             5        6.0  \n",
       "...            ...         ...           ...        ...  \n",
       "167070          20         801             5        0.0  \n",
       "167071          20         801             5        0.0  \n",
       "167072          20         801             5        0.0  \n",
       "167073          20         801             5        0.0  \n",
       "167074          20         801             5        0.0  \n",
       "\n",
       "[167075 rows x 22 columns]"
      ]
     },
     "execution_count": 2,
     "metadata": {},
     "output_type": "execute_result"
    }
   ],
   "source": [
    "dataset = pd.read_csv('dataset_47.csv',sep=',')\n",
    "dataset"
   ]
  },
  {
   "cell_type": "code",
   "execution_count": 14,
   "metadata": {},
   "outputs": [],
   "source": [
    "train_features = ['STOPPOINTID','DAYOFWEEK','PROGRNUMBER','ORDER','temp','feels_like',\n",
    "        'pressure', 'humidity', 'wind_speed','wind_deg', 'clouds_all', 'weather_id', 'weather_main']\n",
    "target_features = ['ACTUALTIME_ARR']"
   ]
  },
  {
   "cell_type": "code",
   "execution_count": 15,
   "metadata": {},
   "outputs": [],
   "source": [
    "Xtrain,Xtest,Ytrain,Ytest = train_test_split(dataset[train_features],dataset[target_features],test_size = 0.3)"
   ]
  },
  {
   "cell_type": "code",
   "execution_count": null,
   "metadata": {},
   "outputs": [],
   "source": [
    "rfc = RandomForestRegressor(\n",
    "                            random_state=0\n",
    "                            )\n",
    "rfc = rfc.fit(Xtrain,Ytrain)\n",
    "score = rfc.score(Xtest,Ytest)\n",
    "score"
   ]
  },
  {
   "cell_type": "code",
   "execution_count": 8,
   "metadata": {},
   "outputs": [],
   "source": [
    "def printMetrics(testActualVal, predictions): \n",
    "    #classification evaluation measures\n",
    "    print('\\n==============================================================================') \n",
    "    print(\"MAE: \", metrics.mean_absolute_error(testActualVal, predictions)) \n",
    "    #print(\"MSE: \", metrics.mean_squared_error(testActualVal, predictions)) \n",
    "    print(\"RMSE: \", metrics.mean_squared_error(testActualVal, predictions)**0.5) \n",
    "    print(\"R2: \", metrics.r2_score(testActualVal, predictions))"
   ]
  },
  {
   "cell_type": "code",
   "execution_count": null,
   "metadata": {},
   "outputs": [],
   "source": [
    "test_prediction = rfc.predict(Xtest)\n",
    "printMetrics(Ytest,test_prediction)"
   ]
  },
  {
   "cell_type": "code",
   "execution_count": null,
   "metadata": {},
   "outputs": [],
   "source": [
    "# joblib.dump(rfc,'Model_for_46A')"
   ]
  },
  {
   "cell_type": "code",
   "execution_count": 16,
   "metadata": {},
   "outputs": [
    {
     "data": {
      "text/plain": [
       "0.9219539149400389"
      ]
     },
     "execution_count": 16,
     "metadata": {},
     "output_type": "execute_result"
    }
   ],
   "source": [
    "lnr = LinearRegression().fit(Xtrain,Ytrain)\n",
    "score = lnr.score(Xtest,Ytest)\n",
    "score"
   ]
  },
  {
   "cell_type": "code",
   "execution_count": 17,
   "metadata": {},
   "outputs": [
    {
     "name": "stdout",
     "output_type": "stream",
     "text": [
      "\n",
      "==============================================================================\n",
      "MAE:  3599.8691591802835\n",
      "RMSE:  4753.235857998325\n",
      "R2:  0.9219539149400388\n"
     ]
    }
   ],
   "source": [
    "test_prediction = lnr.predict(Xtest)\n",
    "printMetrics(Ytest,test_prediction)"
   ]
  },
  {
   "cell_type": "code",
   "execution_count": 18,
   "metadata": {},
   "outputs": [],
   "source": [
    "polynomial = PolynomialFeatures(degree=2)\n",
    "x_transformed = polynomial.fit_transform(Xtrain)\n",
    "\n",
    "ply = LinearRegression()\n",
    "ply = ply.fit(x_transformed,Ytrain)"
   ]
  },
  {
   "cell_type": "code",
   "execution_count": 19,
   "metadata": {},
   "outputs": [
    {
     "data": {
      "text/plain": [
       "0.9678831858586648"
      ]
     },
     "execution_count": 19,
     "metadata": {},
     "output_type": "execute_result"
    }
   ],
   "source": [
    "ply.score(polynomial.fit_transform(Xtest),Ytest)"
   ]
  },
  {
   "cell_type": "code",
   "execution_count": 20,
   "metadata": {},
   "outputs": [
    {
     "name": "stdout",
     "output_type": "stream",
     "text": [
      "\n",
      "==============================================================================\n",
      "MAE:  2083.3811674676444\n",
      "RMSE:  3049.158726602011\n",
      "R2:  0.9678831858586648\n"
     ]
    }
   ],
   "source": [
    "test_prediction = ply.predict(polynomial.fit_transform(Xtest))\n",
    "printMetrics(Ytest,test_prediction)"
   ]
  },
  {
   "cell_type": "code",
   "execution_count": null,
   "metadata": {},
   "outputs": [],
   "source": []
  }
 ],
 "metadata": {
  "kernelspec": {
   "display_name": "Python 3",
   "language": "python",
   "name": "python3"
  },
  "language_info": {
   "codemirror_mode": {
    "name": "ipython",
    "version": 3
   },
   "file_extension": ".py",
   "mimetype": "text/x-python",
   "name": "python",
   "nbconvert_exporter": "python",
   "pygments_lexer": "ipython3",
   "version": "3.7.6"
  }
 },
 "nbformat": 4,
 "nbformat_minor": 4
}
